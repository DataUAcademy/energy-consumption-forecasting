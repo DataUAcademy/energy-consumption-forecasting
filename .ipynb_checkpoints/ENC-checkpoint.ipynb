{
 "cells": [
  {
   "cell_type": "markdown",
   "metadata": {
    "_uuid": "17d5893d94f4c532ece1b3dc8a15783f0457ff38"
   },
   "source": [
    "# Energy Consumption\n",
    "To better follow the energy consumption, the government wants energy suppliers to install smart meters in every home in England, Wales and Scotland. There are more than 26 million homes for the energy suppliers to get to, with the goal of every home having a smart meter by 2020.\n",
    "\n",
    "This roll out of meter is lead by the European Union who asked all member governments to look at smart meters as part of measures to upgrade our energy supply and tackle climate change. After an initial study, the British government decided to adopt smart meters as part of their plan to update our ageing energy system.\n",
    "\n",
    "In this dataset, you will find a refactorised version of the data from the London data store, that contains the energy consumption readings for a sample of 5,567 London Households that took part in the UK Power Networks led Low Carbon London project between November 2011 and February 2014. The data from the smart meters seems associated only to the electrical consumption.\n",
    "\n",
    "**Approach : **\n",
    "\n",
    "1.  Combine all blocks into a single dataframe- keeping on relevant columns.\n",
    "2. Use day-level energy consumption data per household to normalize data for inconsistent household count\n",
    "3. Explore relationships between weather conditions and energy consumptions. Create clusters for the weather data- using which we can add weather identifiers to day-level data\n",
    "4. Add UK holidays data to the day level data as an indicator.\n",
    "5. Fit an ARIMA model\n",
    "        i) ACF, PACF\n",
    "        ii) Explore Seasonal Decomposition\n",
    "        iii) Modelling \n",
    "7. Fit an LSTM model"
   ]
  },
  {
   "cell_type": "markdown",
   "metadata": {
    "_uuid": "54f65dd3998476348ff0e370d47418d3d7a24501"
   },
   "source": [
    "# Daily Energy Data Preparation"
   ]
  },
  {
   "cell_type": "markdown",
   "metadata": {
    "_uuid": "b2e567a98ece7d6cac2d3f7e4a494bb0a36f2fbc"
   },
   "source": [
    "**Importing Libraries **"
   ]
  },
  {
   "cell_type": "code",
   "execution_count": null,
   "metadata": {
    "_uuid": "cd3cc8ff60d96c57b6b0fa38f4ab5776676422c9"
   },
   "outputs": [],
   "source": [
    "#!pip install pmdarima"
   ]
  },
  {
   "cell_type": "code",
   "execution_count": null,
   "metadata": {
    "_cell_guid": "b1076dfc-b9ad-4769-8c92-a6c4dae69d19",
    "_uuid": "8f2839f25d086af736a60e9eeb907d3b93b6e0e5"
   },
   "outputs": [],
   "source": [
    "import pandas as pd\n",
    "import numpy as np\n",
    "from pandas import datetime\n",
    "from matplotlib import pyplot as plt\n",
    "import os\n",
    "\n",
    "from statsmodels.tsa.arima_model import ARIMA\n",
    "from matplotlib import pyplot\n",
    "from pandas.tools.plotting import autocorrelation_plot\n",
    "\n",
    "#from pyramid.arima import auto_arima\n",
    "#from pmdarima.arima import auto_arima\n",
    "import pyflux as pf\n",
    "from sklearn.cluster import KMeans\n",
    "from sklearn.preprocessing import LabelEncoder\n",
    "from sklearn.preprocessing import MinMaxScaler\n",
    "from statsmodels.graphics.tsaplots import plot_acf, plot_pacf\n",
    "import statsmodels.api as sm\n",
    "from statsmodels.tsa.statespace.sarimax import SARIMAX\n",
    "\n",
    "import math\n",
    "\n",
    "from sklearn.preprocessing import MinMaxScaler\n",
    "from sklearn.metrics import mean_squared_error\n",
    "\n",
    "from keras.models import Sequential\n",
    "from keras.layers import Dense\n",
    "from keras.layers import LSTM\n"
   ]
  },
  {
   "cell_type": "markdown",
   "metadata": {
    "_uuid": "bd9e37d974f8e8db1c69c4814bbd2dcd62ebe67c"
   },
   "source": [
    "### Energy Data\n",
    "\n",
    "> We are predicting for energy demand in the future- therefore we are taking only energy sum i.e. total energy use per day for a given household."
   ]
  },
  {
   "cell_type": "code",
   "execution_count": null,
   "metadata": {
    "_uuid": "db3acb989b8f5466c72149a33b5d7f46f9ab768c"
   },
   "outputs": [],
   "source": [
    "# Combining all blocks\n",
    "for num in range(0,112):\n",
    "    df = pd.read_csv(\"../input/daily_dataset/daily_dataset/block_\"+str(num)+\".csv\")\n",
    "    df = df[['day','LCLid','energy_sum']]\n",
    "    df.reset_index()\n",
    "    df.to_csv(\"hc_\"+str(num)+\".csv\")\n",
    "\n",
    "fout= open(\"energy.csv\",\"a\")\n",
    "# first file:\n",
    "for line in open(\"hc_0.csv\"):\n",
    "    fout.write(line)\n",
    "# now the rest:    \n",
    "for num in range(0,112):\n",
    "    f = open(\"hc_\"+str(num)+\".csv\")\n",
    "    f.readline() # skip the header\n",
    "    for line in f:\n",
    "         fout.write(line)\n",
    "    f.close()\n",
    "fout.close()"
   ]
  },
  {
   "cell_type": "markdown",
   "metadata": {
    "_uuid": "2a318235820652f998fbaefbcbb575f3489d0f1c"
   },
   "source": [
    "** Energy at Day Level **"
   ]
  },
  {
   "cell_type": "code",
   "execution_count": null,
   "metadata": {
    "_uuid": "c51807b240b2e7cd7b690d5e80364a8a8fdc1807"
   },
   "outputs": [],
   "source": [
    "energy = pd.read_csv('energy.csv')\n",
    "len(energy)"
   ]
  },
  {
   "cell_type": "markdown",
   "metadata": {
    "_uuid": "b98aa0fdafe8ec7f0f691e32bd8a262e1b900124"
   },
   "source": [
    "**House Count**\n",
    "> In the dataset we see that the number of households for which energy data was collected across different days are different. This is probably due to the gradually increasing adoption of smart meters in London.  This could lead to false interpretation that the energy for a particular day might be high when it could be that the data was only collected for more number of houses. We will look at the house count for each day.  "
   ]
  },
  {
   "cell_type": "code",
   "execution_count": null,
   "metadata": {
    "_uuid": "4d706b9de14ba8cf5c3f2db670f5cd3eb092b065"
   },
   "outputs": [],
   "source": [
    "housecount = energy.groupby('day')[['LCLid']].nunique()\n",
    "housecount.head(4)"
   ]
  },
  {
   "cell_type": "code",
   "execution_count": null,
   "metadata": {
    "_uuid": "41213cc6ac62f6ef07c6cd075ac67d451b8958bf"
   },
   "outputs": [],
   "source": [
    "housecount.plot(figsize=(25,5))"
   ]
  },
  {
   "cell_type": "markdown",
   "metadata": {
    "_uuid": "75fb45e409011a5d3e49066bb7455204f99cf5f6"
   },
   "source": [
    "**Normalization across households**\n",
    "> The data collection across households are inconsistent- therefore we will be using *energy per household* as the target to predict rather than energy alone. This is an optional step as we can also predict for energy sum as whole for each household. However there are quite a lot of unique households for which we have to repeat the exercise and our ultimate goal is to predict overall consumption forecast and not at household level.  \n",
    "This also means that since household level is removed, we are not looking into the ACORN details which is available at household level"
   ]
  },
  {
   "cell_type": "code",
   "execution_count": null,
   "metadata": {
    "_uuid": "6a9db64508cf271a5d8d80d451bd469e4c951566"
   },
   "outputs": [],
   "source": [
    "energy = energy.groupby('day')[['energy_sum']].sum()\n",
    "energy = energy.merge(housecount, on = ['day'])\n",
    "energy = energy.reset_index()"
   ]
  },
  {
   "cell_type": "code",
   "execution_count": null,
   "metadata": {
    "_uuid": "7691f790c07793566022fdbf0bb7978b82058f2b"
   },
   "outputs": [],
   "source": [
    "energy.count()"
   ]
  },
  {
   "cell_type": "code",
   "execution_count": null,
   "metadata": {
    "_uuid": "879542c2effa1e8f9c52422f8eccb6abc69bf658"
   },
   "outputs": [],
   "source": [
    "energy.day = pd.to_datetime(energy.day,format='%Y-%m-%d').dt.date"
   ]
  },
  {
   "cell_type": "code",
   "execution_count": null,
   "metadata": {
    "_uuid": "65692b6370245782a2f1ff74530003164fb21906"
   },
   "outputs": [],
   "source": [
    "energy['avg_energy'] =  energy['energy_sum']/energy['LCLid']\n",
    "print(\"Starting Point of Data at Day Level\",min(energy.day))\n",
    "print(\"Ending Point of Data at Day Level\",max(energy.day))"
   ]
  },
  {
   "cell_type": "code",
   "execution_count": null,
   "metadata": {
    "_uuid": "a342ef3f128069277fb7587c32e53b999cbb0803"
   },
   "outputs": [],
   "source": [
    "energy.describe()"
   ]
  },
  {
   "cell_type": "markdown",
   "metadata": {
    "_uuid": "1a4bc0c3b7ad2deee65881260f3c5fd292233dd1"
   },
   "source": [
    "## Weather Information\n",
    "Daily level weather information is taken using darksky api in the dataset[](http://)"
   ]
  },
  {
   "cell_type": "code",
   "execution_count": null,
   "metadata": {
    "_uuid": "faf8242ab6be1cbc86442f4b4a0bb1e4d20a01e8"
   },
   "outputs": [],
   "source": [
    "weather = pd.read_csv('../input/weather_daily_darksky.csv')\n",
    "weather.head(4)"
   ]
  },
  {
   "cell_type": "code",
   "execution_count": null,
   "metadata": {
    "_uuid": "6a2f2405e1e6ff44dc8b93bf75862535a8f95866"
   },
   "outputs": [],
   "source": [
    "weather.describe()"
   ]
  },
  {
   "cell_type": "code",
   "execution_count": null,
   "metadata": {
    "_uuid": "dbaec3246b5beae4a08740aeba6ae836364c5a47"
   },
   "outputs": [],
   "source": [
    "weather['day']=  pd.to_datetime(weather['time']) # day is given as timestamp\n",
    "weather['day']=  pd.to_datetime(weather['day'],format='%Y%m%d').dt.date\n",
    "# selecting numeric variables\n",
    "weather = weather[['temperatureMax', 'windBearing', 'dewPoint', 'cloudCover', 'windSpeed',\n",
    "       'pressure', 'apparentTemperatureHigh', 'visibility', 'humidity',\n",
    "       'apparentTemperatureLow', 'apparentTemperatureMax', 'uvIndex',\n",
    "       'temperatureLow', 'temperatureMin', 'temperatureHigh',\n",
    "       'apparentTemperatureMin', 'moonPhase','day']]\n",
    "weather = weather.dropna()"
   ]
  },
  {
   "cell_type": "markdown",
   "metadata": {
    "_uuid": "c0f6b2d05c42ac7dcbbea8b894a5355eca4cdde9"
   },
   "source": [
    "### Relationship of weather conditions with electricity consumption"
   ]
  },
  {
   "cell_type": "code",
   "execution_count": null,
   "metadata": {
    "_uuid": "de886f264e4497b97193ddc4e866332b0a39e11b"
   },
   "outputs": [],
   "source": [
    "weather_energy =  energy.merge(weather,on='day')\n",
    "weather_energy.head(2)"
   ]
  },
  {
   "cell_type": "markdown",
   "metadata": {
    "_uuid": "1ccabbf4155c16853cac24d85fd43be6ac4a5d46"
   },
   "source": [
    " *** 1. Temperature ***\n",
    "> We can see that energy and temperature have an inverse relationship-we can see the peaks in one appearing with troughs in the other. This confirms the business intuition that during low temperature, it is likely that the energy consumption through heaters etc. increases. "
   ]
  },
  {
   "cell_type": "code",
   "execution_count": null,
   "metadata": {
    "_uuid": "d3f5ac5977121e93b66179503619b75cec9a88bb"
   },
   "outputs": [],
   "source": [
    "fig, ax1 = plt.subplots(figsize = (20,5))\n",
    "ax1.plot(weather_energy.day, weather_energy.temperatureMax, color = 'tab:orange')\n",
    "ax1.plot(weather_energy.day, weather_energy.temperatureMin, color = 'tab:pink')\n",
    "ax1.set_ylabel('Temperature')\n",
    "ax1.legend()\n",
    "ax2 = ax1.twinx()\n",
    "ax2.plot(weather_energy.day,weather_energy.avg_energy,color = 'tab:blue')\n",
    "ax2.set_ylabel('Average Energy/Household',color = 'tab:blue')\n",
    "ax2.legend(bbox_to_anchor=(0.0, 1.02, 1.0, 0.102))\n",
    "plt.title('Energy Consumption and Temperature')\n",
    "fig.tight_layout()\n",
    "plt.show()\n"
   ]
  },
  {
   "cell_type": "markdown",
   "metadata": {
    "_uuid": "9997ee50a667f4dd64eae817a93a910af7491a59"
   },
   "source": [
    "***2.  Humidity ***\n",
    "\n",
    ">  Humidity and the average consumption of energy seems to have the same trend.\n"
   ]
  },
  {
   "cell_type": "code",
   "execution_count": null,
   "metadata": {
    "_uuid": "b43ee05f8b1eb14feb7fad0c5d3a0c09a6f29090"
   },
   "outputs": [],
   "source": [
    "fig, ax1 = plt.subplots(figsize = (20,5))\n",
    "ax1.plot(weather_energy.day, weather_energy.humidity, color = 'tab:orange')\n",
    "ax1.set_ylabel('Humidity',color = 'tab:orange')\n",
    "ax2 = ax1.twinx()\n",
    "ax2.plot(weather_energy.day,weather_energy.avg_energy,color = 'tab:blue')\n",
    "ax2.set_ylabel('Average Energy/Household',color = 'tab:blue')\n",
    "plt.title('Energy Consumption and Humidity')\n",
    "fig.tight_layout()\n",
    "plt.show()"
   ]
  },
  {
   "cell_type": "markdown",
   "metadata": {
    "_uuid": "900d721e58685489c8aaff7c633dbd035a40bf14"
   },
   "source": [
    "***3. Cloud Cover***\n",
    "> The cloud cover value seems to be following the same pattern as the energy consumption."
   ]
  },
  {
   "cell_type": "code",
   "execution_count": null,
   "metadata": {
    "_uuid": "944ecc50b7ea31b78ce93ddabb010360f83be6ee"
   },
   "outputs": [],
   "source": [
    "fig, ax1 = plt.subplots(figsize = (20,5))\n",
    "ax1.plot(weather_energy.day, weather_energy.cloudCover, color = 'tab:orange')\n",
    "ax1.set_ylabel('Cloud Cover',color = 'tab:orange')\n",
    "ax2 = ax1.twinx()\n",
    "ax2.plot(weather_energy.day,weather_energy.avg_energy,color = 'tab:blue')\n",
    "ax2.set_ylabel('Average Energy/Household',color = 'tab:blue')\n",
    "plt.title('Energy Consumption and Cloud Cover')\n",
    "fig.tight_layout()\n",
    "plt.show()"
   ]
  },
  {
   "cell_type": "markdown",
   "metadata": {
    "_uuid": "abd46db12b8dc25ca5d83ff7a7d7cc056db1f952"
   },
   "source": [
    "***4. Visibility***\n",
    "> The visibility factor does not seem to affect energy consumption at all- since visibility is most likely an outdoors factor, it is unlikely that it's increase or decrease affects energy consumption within a household."
   ]
  },
  {
   "cell_type": "code",
   "execution_count": null,
   "metadata": {
    "_uuid": "8d192f9d831dd76d255529b0d73a6479070d0fe3"
   },
   "outputs": [],
   "source": [
    "fig, ax1 = plt.subplots(figsize = (20,5))\n",
    "ax1.plot(weather_energy.day, weather_energy.visibility, color = 'tab:orange')\n",
    "ax1.set_ylabel('Visibility',color = 'tab:orange')\n",
    "ax2 = ax1.twinx()\n",
    "ax2.plot(weather_energy.day,weather_energy.avg_energy,color = 'tab:blue')\n",
    "ax2.set_ylabel('Average Energy/Household',color = 'tab:blue')\n",
    "plt.title('Energy Consumption and Visibility')\n",
    "fig.tight_layout()\n",
    "plt.show()"
   ]
  },
  {
   "cell_type": "markdown",
   "metadata": {
    "_uuid": "fe0207360bcc65007d4cd7f0d93f14651124817d"
   },
   "source": [
    "***5.  Wind Speed***\n",
    ">  Like visibility, wind speed seems to be an outdoors factor which does not affect in the energy consumption as such."
   ]
  },
  {
   "cell_type": "code",
   "execution_count": null,
   "metadata": {
    "_uuid": "4b93375363ca895229d03ad19fe58cae2a6e2555"
   },
   "outputs": [],
   "source": [
    "fig, ax1 = plt.subplots(figsize = (20,5))\n",
    "ax1.plot(weather_energy.day, weather_energy.windSpeed, color = 'tab:orange')\n",
    "ax1.set_ylabel('Wind Speed',color = 'tab:orange')\n",
    "ax2 = ax1.twinx()\n",
    "ax2.plot(weather_energy.day,weather_energy.avg_energy,color = 'tab:blue')\n",
    "ax2.set_ylabel('Average Energy/Household',color = 'tab:blue')\n",
    "plt.title('Energy Consumption and Wind Speed')\n",
    "fig.tight_layout()\n",
    "plt.show()"
   ]
  },
  {
   "cell_type": "markdown",
   "metadata": {
    "_uuid": "9d6fed88c6b5ee868602124fc9b98bf4cf73994e"
   },
   "source": [
    "***6.  UV Index***\n",
    "> The UV index has an inverse relationship with energy consumption- why?"
   ]
  },
  {
   "cell_type": "code",
   "execution_count": null,
   "metadata": {
    "_uuid": "efca50fe49a83073bacb5a3de6eab92c38635c2c"
   },
   "outputs": [],
   "source": [
    "fig, ax1 = plt.subplots(figsize = (20,5))\n",
    "ax1.plot(weather_energy.day, weather_energy.uvIndex, color = 'tab:orange')\n",
    "ax1.set_ylabel('UV Index',color = 'tab:orange')\n",
    "ax2 = ax1.twinx()\n",
    "ax2.plot(weather_energy.day,weather_energy.avg_energy,color = 'tab:blue')\n",
    "ax2.set_ylabel('Average Energy/Household',color = 'tab:blue')\n",
    "plt.title('Energy Consumption and UV Index')\n",
    "fig.tight_layout()\n",
    "plt.show()"
   ]
  },
  {
   "cell_type": "markdown",
   "metadata": {
    "_uuid": "9d1fac6d7bcd36ffc3f65426352783866b932a51"
   },
   "source": [
    "***7. dewPoint***\n",
    "> Dew Point- is a function of humidity and temperature therefore it displays similar relation to energy consumption."
   ]
  },
  {
   "cell_type": "code",
   "execution_count": null,
   "metadata": {
    "_uuid": "c7a57ebda863a3d200f529f0398427ed426bcf8f"
   },
   "outputs": [],
   "source": [
    "fig, ax1 = plt.subplots(figsize = (20,5))\n",
    "ax1.plot(weather_energy.day, weather_energy.dewPoint, color = 'tab:orange')\n",
    "ax1.set_ylabel('Dew Point',color = 'tab:orange')\n",
    "ax2 = ax1.twinx()\n",
    "ax2.plot(weather_energy.day,weather_energy.avg_energy,color = 'tab:blue')\n",
    "ax2.set_ylabel('Average Energy/Household',color = 'tab:blue')\n",
    "plt.title('Energy Consumption and Dew Point')\n",
    "fig.tight_layout()\n",
    "plt.show()"
   ]
  },
  {
   "cell_type": "markdown",
   "metadata": {
    "_uuid": "6d0677397cfd95c0a519bbc5132982cfe8e582ef"
   },
   "source": [
    "### Correlation between Weather Variables and Energy Consumption\n",
    "* Energy has high positive correlation with humidity and high negative correlation with temperature.\n",
    "* Dew Point, UV Index display multicollinearity with Temperature, hence discarded\n",
    "* Cloud Cover and Visibility display multicollinearity with Humidity, hence discarded\n",
    "* Pressure and Moon Phase have minimal correlation with Energy, hence discarded\n",
    "* Wind Speed has low correlation with energy but does not show multicollinearity\n"
   ]
  },
  {
   "cell_type": "code",
   "execution_count": null,
   "metadata": {
    "_uuid": "75adef32387e2865bcc5bb8a8a7e29f2a4fa7dd6"
   },
   "outputs": [],
   "source": [
    "cor_matrix = weather_energy[['avg_energy','temperatureMax','dewPoint', 'cloudCover', 'windSpeed','pressure', 'visibility', 'humidity','uvIndex', 'moonPhase']].corr()\n",
    "cor_matrix"
   ]
  },
  {
   "cell_type": "markdown",
   "metadata": {
    "_uuid": "0006ecbee2d4f5b91f1ffdbca007691550dc227d"
   },
   "source": [
    "### Creating Weather Clusters \n",
    "> The weather information has a lot of variables- which might not all be useful. We will attempt to create weather clusters to see if we can define a weather of the day based on the granular weather data like temperature, precipitation etc. "
   ]
  },
  {
   "cell_type": "code",
   "execution_count": null,
   "metadata": {
    "_uuid": "18e814606ea64e4b49d931a84252ad289eb4b15e"
   },
   "outputs": [],
   "source": [
    "#scaling\n",
    "scaler = MinMaxScaler()\n",
    "weather_scaled = scaler.fit_transform(weather_energy[['temperatureMax','humidity','windSpeed']])"
   ]
  },
  {
   "cell_type": "code",
   "execution_count": null,
   "metadata": {
    "_uuid": "f5c9166feed17aa10abe2759d0bbf1af40dff4a9"
   },
   "outputs": [],
   "source": [
    "# optimum K\n",
    "Nc = range(1, 20)\n",
    "kmeans = [KMeans(n_clusters=i) for i in Nc]\n",
    "kmeans\n",
    "\n",
    "score = [kmeans[i].fit(weather_scaled).score(weather_scaled) for i in range(len(kmeans))]\n",
    "score\n",
    "plt.plot(Nc,score)\n",
    "plt.xlabel('Number of Clusters')\n",
    "plt.ylabel('Score')\n",
    "plt.title('Elbow Curve')\n",
    "plt.show()"
   ]
  },
  {
   "cell_type": "code",
   "execution_count": null,
   "metadata": {
    "_uuid": "be5ff8af596edc699bb2bc0d329480c9651491e6"
   },
   "outputs": [],
   "source": [
    "kmeans = KMeans(n_clusters=3, max_iter=600, algorithm = 'auto')\n",
    "kmeans.fit(weather_scaled)\n",
    "weather_energy['weather_cluster'] = kmeans.labels_"
   ]
  },
  {
   "cell_type": "code",
   "execution_count": null,
   "metadata": {
    "_uuid": "82fda72c8dd95d789261e756134564e8b829c5ed"
   },
   "outputs": [],
   "source": [
    "# Cluster Relationships with weather variables\n",
    "plt.figure(figsize=(20,5))\n",
    "plt.subplot(1, 3, 1)\n",
    "plt.scatter(weather_energy.weather_cluster,weather_energy.temperatureMax)\n",
    "plt.title('Weather Cluster vs. Temperature')\n",
    "plt.subplot(1, 3, 2)\n",
    "plt.scatter(weather_energy.weather_cluster,weather_energy.humidity)\n",
    "plt.title('Weather Cluster vs. Humidity')\n",
    "plt.subplot(1, 3, 3)\n",
    "plt.scatter(weather_energy.weather_cluster,weather_energy.windSpeed)\n",
    "plt.title('Weather Cluster vs. WindSpeed')\n",
    "\n",
    "plt.show()\n",
    "# put this in a loop"
   ]
  },
  {
   "cell_type": "code",
   "execution_count": null,
   "metadata": {
    "_uuid": "093fd97985dda942eec4ef6b206db05d59165d47"
   },
   "outputs": [],
   "source": [
    "fig, ax1 = plt.subplots(figsize = (10,7))\n",
    "ax1.scatter(weather_energy.temperatureMax, \n",
    "            weather_energy.humidity, \n",
    "            s = weather_energy.windSpeed*10,\n",
    "            c = weather_energy.weather_cluster)\n",
    "ax1.set_xlabel('Temperature')\n",
    "ax1.set_ylabel('Humidity')\n",
    "plt.show()"
   ]
  },
  {
   "cell_type": "markdown",
   "metadata": {
    "_uuid": "dec281d23b3200335f46f463d41506142d93147e"
   },
   "source": [
    "### UK Bank Holidays"
   ]
  },
  {
   "cell_type": "code",
   "execution_count": null,
   "metadata": {
    "_uuid": "5fcfd4f3c561216f36836cb4803bac88cf767fa4"
   },
   "outputs": [],
   "source": [
    "holiday = pd.read_csv('../input/uk_bank_holidays.csv')\n",
    "holiday['Bank holidays'] = pd.to_datetime(holiday['Bank holidays'],format='%Y-%m-%d').dt.date\n",
    "holiday.head(4)"
   ]
  },
  {
   "cell_type": "markdown",
   "metadata": {
    "_uuid": "a2e2bd5fdb011f9c693eb5281dbe2f2f4d03f3b6"
   },
   "source": [
    "**Creating a holiday indicator on weather data**"
   ]
  },
  {
   "cell_type": "code",
   "execution_count": null,
   "metadata": {
    "_uuid": "f0d6faf1cb8bf96e3f2d74ccfe28223974336f37"
   },
   "outputs": [],
   "source": [
    "weather_energy = weather_energy.merge(holiday, left_on = 'day',right_on = 'Bank holidays',how = 'left')\n",
    "weather_energy['holiday_ind'] = np.where(weather_energy['Bank holidays'].isna(),0,1)"
   ]
  },
  {
   "cell_type": "markdown",
   "metadata": {
    "_uuid": "77e63b3d40f4ae3ddec0f47a8d226ac1bb190ba6"
   },
   "source": [
    "### ARIMAX"
   ]
  },
  {
   "cell_type": "code",
   "execution_count": null,
   "metadata": {
    "_uuid": "c115c5ecf98967049a4ffe790695e8b5b3e25cad"
   },
   "outputs": [],
   "source": [
    "weather_energy['Year'] = pd.DatetimeIndex(weather_energy['day']).year  \n",
    "weather_energy['Month'] = pd.DatetimeIndex(weather_energy['day']).month\n",
    "weather_energy.set_index(['day'],inplace=True)"
   ]
  },
  {
   "cell_type": "markdown",
   "metadata": {
    "_uuid": "af5a7408a155efeaee68520e70b7baddaa101361"
   },
   "source": [
    "** Subset for required columns and 70-30 train-test split**"
   ]
  },
  {
   "cell_type": "code",
   "execution_count": null,
   "metadata": {
    "_uuid": "f8b8d3332c6bfb9863b9bfde64c71b81abb2624a"
   },
   "outputs": [],
   "source": [
    "model_data = weather_energy[['avg_energy','weather_cluster','holiday_ind']]\n",
    "# train = model_data.iloc[0:round(len(model_data)*0.90)]\n",
    "# test = model_data.iloc[len(train)-1:]\n",
    "train = model_data.iloc[0:(len(model_data)-30)]\n",
    "test = model_data.iloc[len(train):(len(model_data)-1)]"
   ]
  },
  {
   "cell_type": "code",
   "execution_count": null,
   "metadata": {
    "_uuid": "b24d9f64218112093b4491549e2faa18e90c8fba"
   },
   "outputs": [],
   "source": [
    "train['avg_energy'].plot(figsize=(25,4))\n",
    "test['avg_energy'].plot(figsize=(25,4))\n"
   ]
  },
  {
   "cell_type": "code",
   "execution_count": null,
   "metadata": {
    "_uuid": "dfb3b61b79240b97ef710e1bc667cc83af3e8341"
   },
   "outputs": [],
   "source": [
    "test.head(1)"
   ]
  },
  {
   "cell_type": "markdown",
   "metadata": {
    "_uuid": "d4bd9884ee3b0d0d2dcaa626407c00c677800c9f"
   },
   "source": [
    "**ACF PACF **"
   ]
  },
  {
   "cell_type": "code",
   "execution_count": null,
   "metadata": {
    "_uuid": "c12dfbb9c28160b306387b9467ebf81ef44bda31"
   },
   "outputs": [],
   "source": [
    "plot_acf(train.avg_energy,lags=100)\n",
    "plt.show()"
   ]
  },
  {
   "cell_type": "code",
   "execution_count": null,
   "metadata": {
    "_uuid": "a49c6a9a3a147e730fc71d18a60d1fd5f7733bf5"
   },
   "outputs": [],
   "source": [
    "plot_pacf(train.avg_energy,lags=50)\n",
    "plt.show()"
   ]
  },
  {
   "cell_type": "markdown",
   "metadata": {
    "_uuid": "9112812e3ea51a5a46754ab00e72d92d7f6501fa"
   },
   "source": [
    "Autocorrelation plot shows gradual decay while Partial AutoCorrelation shows that there is a sharp drop after 1st lag. This means that most of the higher-order autocorrelations are effectively explained by the k = 1 lag. Therefore, the series displays AR 'signature' "
   ]
  },
  {
   "cell_type": "markdown",
   "metadata": {
    "_uuid": "587a809e18b8c071c4e8e0f879e1f44d48fbf7a3"
   },
   "source": [
    "**Dickey Fuller's Test**\n",
    "> p is greater than 0.05 therefore the data is not stationary. After differencing, p < 0.05."
   ]
  },
  {
   "cell_type": "code",
   "execution_count": null,
   "metadata": {
    "_uuid": "a3c303d3c6a99ad64bd9dd08774191ce48e5b17a"
   },
   "outputs": [],
   "source": [
    "t = sm.tsa.adfuller(train.avg_energy, autolag='AIC')\n",
    "pd.Series(t[0:4], index=['Test Statistic','p-value','#Lags Used','Number of Observations Used'])"
   ]
  },
  {
   "cell_type": "code",
   "execution_count": null,
   "metadata": {
    "_uuid": "0aef2fbc0e6d91696fc7bd3298114ce2025a4664"
   },
   "outputs": [],
   "source": [
    "# function for differencing\n",
    "def difference(dataset, interval):\n",
    "    diff = list()\n",
    "    for i in range(interval, len(dataset)):\n",
    "        value = dataset.iloc[i] - dataset.iloc[i - interval]\n",
    "        diff.append(value)\n",
    "    return diff"
   ]
  },
  {
   "cell_type": "code",
   "execution_count": null,
   "metadata": {
    "_uuid": "ba8ee3798f7515c5638bed3c010da37fd97a21b1"
   },
   "outputs": [],
   "source": [
    "t  = sm.tsa.adfuller(difference(train.avg_energy,1), autolag='AIC')\n",
    "pd.Series(t[0:4], index=['Test Statistic','p-value','#Lags Used','Number of Observations Used'])"
   ]
  },
  {
   "cell_type": "markdown",
   "metadata": {
    "_uuid": "96494d0b5b27a7fc45288befd3ab592b8cbb15a3"
   },
   "source": [
    "**Seasonal Decomposition**\n",
    "> The seasonal component is quite low while the trend is quite strong with obvious dips in electricity consumption during summers i.e. April to September. This may be attributed to longer days during summer."
   ]
  },
  {
   "cell_type": "code",
   "execution_count": null,
   "metadata": {
    "_uuid": "7f01c5e4ad6949c79f7a2f9b6e8de84b7ee37603"
   },
   "outputs": [],
   "source": [
    "s = sm.tsa.seasonal_decompose(train.avg_energy,freq=12)"
   ]
  },
  {
   "cell_type": "code",
   "execution_count": null,
   "metadata": {
    "_uuid": "15b3ee4dceb57e3440337e418b274b3ecbcb4566"
   },
   "outputs": [],
   "source": [
    "s.seasonal.plot(figsize=(20,5))"
   ]
  },
  {
   "cell_type": "code",
   "execution_count": null,
   "metadata": {
    "_uuid": "41b62cda708df4ebe19890a2666928defb9ea5ea"
   },
   "outputs": [],
   "source": [
    "s.trend.plot(figsize=(20,5))"
   ]
  },
  {
   "cell_type": "code",
   "execution_count": null,
   "metadata": {
    "_uuid": "00c36f891e266ef6382fbee0fa23809fc83de969"
   },
   "outputs": [],
   "source": [
    "s.resid.plot(figsize=(20,5))"
   ]
  },
  {
   "cell_type": "code",
   "execution_count": null,
   "metadata": {
    "_uuid": "e2a713150c06cfeb589e1459ec12aaed0d1820d4"
   },
   "outputs": [],
   "source": [
    "endog = train['avg_energy']\n",
    "exog = sm.add_constant(train[['weather_cluster','holiday_ind']])\n",
    "\n",
    "mod = sm.tsa.statespace.SARIMAX(endog=endog, exog=exog, order=(7,1,1),seasonal_order=(1,1, 0, 12),trend='c')\n",
    "model_fit = mod.fit()\n",
    "model_fit.summary()"
   ]
  },
  {
   "cell_type": "markdown",
   "metadata": {
    "_uuid": "351333ef886d49c43bae42db652eadd1641286a7"
   },
   "source": [
    "**Model Fit**"
   ]
  },
  {
   "cell_type": "code",
   "execution_count": null,
   "metadata": {
    "_uuid": "02ac8c0b90bc2b005694f8da2a7c25da621865b9"
   },
   "outputs": [],
   "source": [
    "train['avg_energy'].plot(figsize=(25,10))\n",
    "model_fit.fittedvalues.plot()\n",
    "plt.show()"
   ]
  },
  {
   "cell_type": "markdown",
   "metadata": {
    "_uuid": "8279ea43482dd64cb2a7113e1780552dbf6371a5"
   },
   "source": [
    "**Prediction**"
   ]
  },
  {
   "cell_type": "code",
   "execution_count": null,
   "metadata": {
    "_uuid": "d0073621312e3e93e6d868e3f86040a861e4db63"
   },
   "outputs": [],
   "source": [
    "predict = model_fit.predict(start = len(train),end = len(train)+len(test)-1,exog = sm.add_constant(test[['weather_cluster','holiday_ind']]))\n",
    "test['predicted'] = predict.values\n",
    "test.tail(5)"
   ]
  },
  {
   "cell_type": "code",
   "execution_count": null,
   "metadata": {
    "_uuid": "5a3b8774038a23911a0c3888b7eeb37dd103ac53"
   },
   "outputs": [],
   "source": [
    "test['residual'] = abs(test['avg_energy']-test['predicted'])\n",
    "MAE = test['residual'].sum()/len(test)\n",
    "MAPE = (abs(test['residual'])/test['avg_energy']).sum()*100/len(test)\n",
    "print(\"MAE:\", MAE)\n",
    "print(\"MAPE:\", MAPE)"
   ]
  },
  {
   "cell_type": "code",
   "execution_count": null,
   "metadata": {
    "_uuid": "f59f6a00beee2500584283eead819bc319ce3303"
   },
   "outputs": [],
   "source": [
    "test['avg_energy'].plot(figsize=(25,10),color = 'red')\n",
    "test['predicted'].plot()\n",
    "plt.show()"
   ]
  },
  {
   "cell_type": "code",
   "execution_count": null,
   "metadata": {
    "_uuid": "d7059b58a72a752d96c7259a3f3011985e34562e"
   },
   "outputs": [],
   "source": [
    "model_fit.resid.plot(figsize= (30,5))"
   ]
  },
  {
   "cell_type": "code",
   "execution_count": null,
   "metadata": {
    "_uuid": "4265b6921cb38b6cfd7e7db43dc0d155b088d1f8"
   },
   "outputs": [],
   "source": [
    "model_fit.fittedvalues.plot(figsize = (30,5))\n",
    "test.predicted.plot()"
   ]
  },
  {
   "cell_type": "code",
   "execution_count": null,
   "metadata": {
    "_uuid": "424604c13539c29e3a71458886af0cb5fd48b609"
   },
   "outputs": [],
   "source": [
    "test['predicted'].tail(5)"
   ]
  },
  {
   "cell_type": "markdown",
   "metadata": {
    "_uuid": "04e1380f62ccf9ebdd6b649ec85fdd60710b4748"
   },
   "source": [
    "### LSTM"
   ]
  },
  {
   "cell_type": "markdown",
   "metadata": {
    "_uuid": "c6b1be16d55d584c48ec864a56f8719c5796fef2"
   },
   "source": [
    "Using lags of upto 7 days we are going to convert this into a supervised problem. I have taken the function to create lags from this [tutorial](http://machinelearningmastery.com/convert-time-series-supervised-learning-problem-python/) by Jason Brownlee. He has also applied the same to convert multivariate data to a supervised dataframe which he has in turn applied LSTM on."
   ]
  },
  {
   "cell_type": "code",
   "execution_count": null,
   "metadata": {
    "_uuid": "d90e432ae363ad3e0ea48e6231342f12a25cceea"
   },
   "outputs": [],
   "source": [
    "np.random.seed(11)\n",
    "dataframe = weather_energy.loc[:,'avg_energy']\n",
    "dataset = dataframe.values\n",
    "dataset = dataset.astype('float32')"
   ]
  },
  {
   "cell_type": "code",
   "execution_count": null,
   "metadata": {
    "_uuid": "1ae34f66ae673030b4b1027153a90f1162996e16"
   },
   "outputs": [],
   "source": [
    "# convert series to supervised learning\n",
    "def series_to_supervised(data, n_in=1, n_out=1, dropnan=True):\n",
    "    n_vars = 1\n",
    "    df = pd.DataFrame(data)\n",
    "    cols, names = list(), list()\n",
    "    # input sequence (t-n, ... t-1)\n",
    "    for i in range(n_in, 0, -1):\n",
    "        cols.append(df.shift(i))\n",
    "        names += [('var%d(t-%d)' % (j+1, i)) for j in range(n_vars)]\n",
    "    # forecast sequence (t, t+1, ... t+n)\n",
    "    for i in range(0, n_out):\n",
    "        cols.append(df.shift(-i))\n",
    "        if i == 0:\n",
    "            names += [('var%d(t)' % (j+1)) for j in range(n_vars)]\n",
    "        else:\n",
    "            names += [('var%d(t+%d)' % (j+1, i)) for j in range(n_vars)]\n",
    "    # put it all together\n",
    "    agg = pd.concat(cols, axis=1)\n",
    "    agg.columns = names\n",
    "    # drop rows with NaN values\n",
    "    if dropnan:\n",
    "        agg.dropna(inplace=True)\n",
    "    return agg"
   ]
  },
  {
   "cell_type": "code",
   "execution_count": null,
   "metadata": {
    "_uuid": "6f6ce926a1703ae1c809eaabd5f2fe1028451e17"
   },
   "outputs": [],
   "source": [
    "reframed = series_to_supervised(dataset, 7,1)\n",
    "reframed.head(3)"
   ]
  },
  {
   "cell_type": "code",
   "execution_count": null,
   "metadata": {
    "_uuid": "e8865455bff0ae453e2f11a3c91db63369a561f4"
   },
   "outputs": [],
   "source": [
    "reframed['weather_cluster'] = weather_energy.weather_cluster.values[7:]\n",
    "reframed['holiday_ind']= weather_energy.holiday_ind.values[7:]"
   ]
  },
  {
   "cell_type": "code",
   "execution_count": null,
   "metadata": {
    "_uuid": "df3e0d72820b052ace12bb2e88121755ca2bc981"
   },
   "outputs": [],
   "source": [
    "reframed = reframed.reindex(['weather_cluster', 'holiday_ind','var1(t-7)', 'var1(t-6)', 'var1(t-5)', 'var1(t-4)', 'var1(t-3)','var1(t-2)', 'var1(t-1)', 'var1(t)'], axis=1)\n",
    "reframed = reframed.values"
   ]
  },
  {
   "cell_type": "markdown",
   "metadata": {
    "_uuid": "e59099a415c0ec138d3fcec71b0a3081274d95fb"
   },
   "source": [
    "**Normalization**"
   ]
  },
  {
   "cell_type": "code",
   "execution_count": null,
   "metadata": {
    "_uuid": "ac923c02a7f5b30da2aa0d96d24b26683a598dc2"
   },
   "outputs": [],
   "source": [
    "scaler = MinMaxScaler(feature_range=(0, 1))\n",
    "reframed = scaler.fit_transform(reframed)"
   ]
  },
  {
   "cell_type": "code",
   "execution_count": null,
   "metadata": {
    "_uuid": "18ec55aab5acd9011073f6989c18615a2e5ee2ce"
   },
   "outputs": [],
   "source": [
    "# split into train and test sets\n",
    "train = reframed[:(len(reframed)-30), :]\n",
    "test = reframed[(len(reframed)-30):len(reframed), :]"
   ]
  },
  {
   "cell_type": "code",
   "execution_count": null,
   "metadata": {
    "_uuid": "218f4a009d7d96d14673088d25c6c221340e5a7f"
   },
   "outputs": [],
   "source": [
    "train_X, train_y = train[:, :-1], train[:, -1]\n",
    "test_X, test_y = test[:, :-1], test[:, -1]"
   ]
  },
  {
   "cell_type": "code",
   "execution_count": null,
   "metadata": {
    "_uuid": "eb95e6b995b5225dc3ed4bd65feb10da17d1791c"
   },
   "outputs": [],
   "source": [
    "# reshape input to be 3D [samples, timesteps, features]\n",
    "train_X = train_X.reshape((train_X.shape[0], 1, train_X.shape[1]))\n",
    "test_X = test_X.reshape((test_X.shape[0], 1, test_X.shape[1]))\n",
    "print(train_X.shape, train_y.shape, test_X.shape, test_y.shape)"
   ]
  },
  {
   "cell_type": "markdown",
   "metadata": {
    "_uuid": "12d9667c22add4fac2d87797173987c27c539238"
   },
   "source": [
    "**Modelling**"
   ]
  },
  {
   "cell_type": "code",
   "execution_count": null,
   "metadata": {
    "_uuid": "dbb5acca014153d7a272ad8a768d878ac424a6d4"
   },
   "outputs": [],
   "source": [
    "# design network\n",
    "model = Sequential()\n",
    "model.add(LSTM(50, input_shape=(train_X.shape[1], train_X.shape[2])))\n",
    "model.add(Dense(1))\n",
    "model.compile(loss='mae', optimizer='adam')\n",
    "# fit network\n",
    "history = model.fit(train_X, train_y, epochs=50, batch_size=72, verbose=2, shuffle=False)\n",
    "# plot history\n",
    "pyplot.plot(history.history['loss'], label='train')\n",
    "pyplot.legend()\n",
    "pyplot.show()"
   ]
  },
  {
   "cell_type": "markdown",
   "metadata": {
    "_uuid": "3449e596c743f4faa733f2b72deee78ceab0e234"
   },
   "source": [
    "**Prediction**"
   ]
  },
  {
   "cell_type": "code",
   "execution_count": null,
   "metadata": {
    "_uuid": "e6ebe08c4996cacd5beb379e63027735b20ff06f"
   },
   "outputs": [],
   "source": [
    "# make a prediction\n",
    "yhat = model.predict(test_X)"
   ]
  },
  {
   "cell_type": "code",
   "execution_count": null,
   "metadata": {
    "_uuid": "dc5f1f2681780753d81af1dc53e7398e62ae4937"
   },
   "outputs": [],
   "source": [
    "test_X = test_X.reshape(test_X.shape[0], test_X.shape[2])"
   ]
  },
  {
   "cell_type": "code",
   "execution_count": null,
   "metadata": {
    "_uuid": "a6b9b2269645597e6f69bf4b3e26e4763cbcc5f3"
   },
   "outputs": [],
   "source": [
    "# invert scaling for forecast\n",
    "inv_yhat = np.concatenate((yhat, test_X), axis=1)\n",
    "inv_yhat = scaler.inverse_transform(inv_yhat)"
   ]
  },
  {
   "cell_type": "code",
   "execution_count": null,
   "metadata": {
    "_uuid": "0117ee70afa0630708c0f8e20c9df08172e01204"
   },
   "outputs": [],
   "source": [
    "# invert scaling for actual\n",
    "test_y = test_y.reshape((len(test_y), 1))\n",
    "inv_y = np.concatenate((test_y, test_X), axis=1)\n",
    "inv_y = scaler.inverse_transform(inv_y)"
   ]
  },
  {
   "cell_type": "markdown",
   "metadata": {
    "_uuid": "a7df2c7f3461b971268fd4b5bc0138cb0a1aae3c"
   },
   "source": [
    "**Performance**"
   ]
  },
  {
   "cell_type": "code",
   "execution_count": null,
   "metadata": {
    "_uuid": "352f6ae5132a545a1d2ec19a41928288a9d26691"
   },
   "outputs": [],
   "source": [
    "act = [i[9] for i in inv_y] # last element is the predicted average energy\n",
    "pred = [i[9] for i in inv_yhat] # last element is the actual average energy\n",
    "\n",
    "# calculate RMSE\n",
    "import math\n",
    "rmse = math.sqrt(mean_squared_error(act, pred))\n",
    "print('Test RMSE: %.3f' % rmse)"
   ]
  },
  {
   "cell_type": "code",
   "execution_count": null,
   "metadata": {
    "_uuid": "8f2c5f1836f945d39132a8266a4bbdb6238fa917"
   },
   "outputs": [],
   "source": [
    "predicted_lstm = pd.DataFrame({'predicted':pred,'avg_energy':act})\n",
    "predicted_lstm['avg_energy'].plot(figsize=(25,10),color = 'red')\n",
    "predicted_lstm['predicted'].plot(color = 'blue')\n",
    "plt.show()"
   ]
  }
 ],
 "metadata": {
  "kernelspec": {
   "display_name": "Python 3",
   "language": "python",
   "name": "python3"
  },
  "language_info": {
   "codemirror_mode": {
    "name": "ipython",
    "version": 3
   },
   "file_extension": ".py",
   "mimetype": "text/x-python",
   "name": "python",
   "nbconvert_exporter": "python",
   "pygments_lexer": "ipython3",
   "version": "3.6.6"
  }
 },
 "nbformat": 4,
 "nbformat_minor": 1
}
